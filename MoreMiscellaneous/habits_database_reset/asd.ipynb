{
 "cells": [
  {
   "cell_type": "code",
   "execution_count": 7,
   "id": "dee44f32",
   "metadata": {},
   "outputs": [],
   "source": [
    "import sqlite3\n",
    "import pandas as pd\n",
    "\n",
    "conn = sqlite3.connect(\"Habits.db\")\n",
    "cursor = conn.cursor()"
   ]
  },
  {
   "cell_type": "code",
   "execution_count": 12,
   "id": "80fb37e5",
   "metadata": {},
   "outputs": [],
   "source": [
    "df = pd.read_sql_query(\"SELECT * FROM Repetitions\", conn)\n"
   ]
  },
  {
   "cell_type": "code",
   "execution_count": 14,
   "id": "143f7087",
   "metadata": {},
   "outputs": [],
   "source": [
    "df['value'] = 0"
   ]
  },
  {
   "cell_type": "code",
   "execution_count": 15,
   "id": "fd96c926",
   "metadata": {},
   "outputs": [
    {
     "data": {
      "application/vnd.microsoft.datawrangler.viewer.v0+json": {
       "columns": [
        {
         "name": "index",
         "rawType": "int64",
         "type": "integer"
        },
        {
         "name": "id",
         "rawType": "int64",
         "type": "integer"
        },
        {
         "name": "habit",
         "rawType": "int64",
         "type": "integer"
        },
        {
         "name": "timestamp",
         "rawType": "int64",
         "type": "integer"
        },
        {
         "name": "value",
         "rawType": "int64",
         "type": "integer"
        },
        {
         "name": "notes",
         "rawType": "object",
         "type": "string"
        }
       ],
       "conversionMethod": "pd.DataFrame",
       "ref": "f9373ac4-3ed9-4c32-8c9f-11e7127df6d6",
       "rows": [
        [
         "0",
         "67",
         "12",
         "1738540800000",
         "0",
         ""
        ],
        [
         "1",
         "73",
         "12",
         "1738368000000",
         "0",
         ""
        ],
        [
         "2",
         "75",
         "12",
         "1738281600000",
         "0",
         ""
        ],
        [
         "3",
         "102",
         "16",
         "1738800000000",
         "0",
         ""
        ],
        [
         "4",
         "105",
         "8",
         "1738454400000",
         "0",
         ""
        ],
        [
         "5",
         "106",
         "8",
         "1738540800000",
         "0",
         ""
        ],
        [
         "6",
         "107",
         "8",
         "1738627200000",
         "0",
         ""
        ],
        [
         "7",
         "108",
         "8",
         "1738800000000",
         "0",
         ""
        ],
        [
         "8",
         "109",
         "8",
         "1738713600000",
         "0",
         ""
        ],
        [
         "9",
         "110",
         "17",
         "1738540800000",
         "0",
         ""
        ],
        [
         "10",
         "111",
         "17",
         "1738800000000",
         "0",
         ""
        ],
        [
         "11",
         "112",
         "17",
         "1738713600000",
         "0",
         ""
        ],
        [
         "12",
         "113",
         "17",
         "1738627200000",
         "0",
         ""
        ],
        [
         "13",
         "114",
         "9",
         "1738540800000",
         "0",
         ""
        ],
        [
         "14",
         "115",
         "9",
         "1738627200000",
         "0",
         ""
        ],
        [
         "15",
         "116",
         "9",
         "1738713600000",
         "0",
         ""
        ],
        [
         "16",
         "117",
         "9",
         "1738800000000",
         "0",
         ""
        ],
        [
         "17",
         "118",
         "16",
         "1738713600000",
         "0",
         ""
        ],
        [
         "18",
         "119",
         "16",
         "1738627200000",
         "0",
         ""
        ],
        [
         "19",
         "120",
         "15",
         "1738454400000",
         "0",
         ""
        ],
        [
         "20",
         "121",
         "15",
         "1738540800000",
         "0",
         ""
        ],
        [
         "21",
         "122",
         "15",
         "1738627200000",
         "0",
         ""
        ],
        [
         "22",
         "123",
         "15",
         "1738713600000",
         "0",
         ""
        ],
        [
         "23",
         "124",
         "15",
         "1738800000000",
         "0",
         ""
        ],
        [
         "24",
         "125",
         "11",
         "1738454400000",
         "0",
         ""
        ],
        [
         "25",
         "126",
         "11",
         "1738540800000",
         "0",
         ""
        ],
        [
         "26",
         "127",
         "11",
         "1738627200000",
         "0",
         ""
        ],
        [
         "27",
         "128",
         "11",
         "1738713600000",
         "0",
         ""
        ],
        [
         "28",
         "129",
         "11",
         "1738800000000",
         "0",
         ""
        ],
        [
         "29",
         "131",
         "8",
         "1739318400000",
         "0",
         ""
        ],
        [
         "30",
         "132",
         "19",
         "1739232000000",
         "0",
         ""
        ],
        [
         "31",
         "133",
         "19",
         "1739318400000",
         "0",
         ""
        ],
        [
         "32",
         "134",
         "18",
         "1740787200000",
         "0",
         ""
        ],
        [
         "33",
         "137",
         "19",
         "1740873600000",
         "0",
         ""
        ],
        [
         "34",
         "140",
         "21",
         "1740873600000",
         "0",
         ""
        ],
        [
         "35",
         "142",
         "24",
         "1740873600000",
         "0",
         ""
        ],
        [
         "36",
         "143",
         "15",
         "1740873600000",
         "0",
         ""
        ],
        [
         "37",
         "144",
         "17",
         "1740873600000",
         "0",
         ""
        ],
        [
         "38",
         "145",
         "8",
         "1740873600000",
         "0",
         ""
        ],
        [
         "39",
         "146",
         "9",
         "1740873600000",
         "0",
         ""
        ],
        [
         "40",
         "147",
         "23",
         "1740960000000",
         "0",
         ""
        ],
        [
         "41",
         "148",
         "21",
         "1740960000000",
         "0",
         ""
        ],
        [
         "42",
         "149",
         "8",
         "1740960000000",
         "0",
         ""
        ],
        [
         "43",
         "151",
         "17",
         "1740960000000",
         "0",
         ""
        ],
        [
         "44",
         "152",
         "19",
         "1740960000000",
         "0",
         ""
        ],
        [
         "45",
         "153",
         "9",
         "1740960000000",
         "0",
         ""
        ],
        [
         "46",
         "154",
         "23",
         "1741564800000",
         "0",
         ""
        ],
        [
         "47",
         "155",
         "8",
         "1741564800000",
         "0",
         ""
        ],
        [
         "48",
         "156",
         "21",
         "1741564800000",
         "0",
         ""
        ],
        [
         "49",
         "157",
         "15",
         "1741564800000",
         "0",
         ""
        ]
       ],
       "shape": {
        "columns": 5,
        "rows": 140
       }
      },
      "text/html": [
       "<div>\n",
       "<style scoped>\n",
       "    .dataframe tbody tr th:only-of-type {\n",
       "        vertical-align: middle;\n",
       "    }\n",
       "\n",
       "    .dataframe tbody tr th {\n",
       "        vertical-align: top;\n",
       "    }\n",
       "\n",
       "    .dataframe thead th {\n",
       "        text-align: right;\n",
       "    }\n",
       "</style>\n",
       "<table border=\"1\" class=\"dataframe\">\n",
       "  <thead>\n",
       "    <tr style=\"text-align: right;\">\n",
       "      <th></th>\n",
       "      <th>id</th>\n",
       "      <th>habit</th>\n",
       "      <th>timestamp</th>\n",
       "      <th>value</th>\n",
       "      <th>notes</th>\n",
       "    </tr>\n",
       "  </thead>\n",
       "  <tbody>\n",
       "    <tr>\n",
       "      <th>0</th>\n",
       "      <td>67</td>\n",
       "      <td>12</td>\n",
       "      <td>1738540800000</td>\n",
       "      <td>0</td>\n",
       "      <td></td>\n",
       "    </tr>\n",
       "    <tr>\n",
       "      <th>1</th>\n",
       "      <td>73</td>\n",
       "      <td>12</td>\n",
       "      <td>1738368000000</td>\n",
       "      <td>0</td>\n",
       "      <td></td>\n",
       "    </tr>\n",
       "    <tr>\n",
       "      <th>2</th>\n",
       "      <td>75</td>\n",
       "      <td>12</td>\n",
       "      <td>1738281600000</td>\n",
       "      <td>0</td>\n",
       "      <td></td>\n",
       "    </tr>\n",
       "    <tr>\n",
       "      <th>3</th>\n",
       "      <td>102</td>\n",
       "      <td>16</td>\n",
       "      <td>1738800000000</td>\n",
       "      <td>0</td>\n",
       "      <td></td>\n",
       "    </tr>\n",
       "    <tr>\n",
       "      <th>4</th>\n",
       "      <td>105</td>\n",
       "      <td>8</td>\n",
       "      <td>1738454400000</td>\n",
       "      <td>0</td>\n",
       "      <td></td>\n",
       "    </tr>\n",
       "    <tr>\n",
       "      <th>...</th>\n",
       "      <td>...</td>\n",
       "      <td>...</td>\n",
       "      <td>...</td>\n",
       "      <td>...</td>\n",
       "      <td>...</td>\n",
       "    </tr>\n",
       "    <tr>\n",
       "      <th>135</th>\n",
       "      <td>298</td>\n",
       "      <td>14</td>\n",
       "      <td>1743033600000</td>\n",
       "      <td>0</td>\n",
       "      <td></td>\n",
       "    </tr>\n",
       "    <tr>\n",
       "      <th>136</th>\n",
       "      <td>299</td>\n",
       "      <td>15</td>\n",
       "      <td>1743033600000</td>\n",
       "      <td>0</td>\n",
       "      <td></td>\n",
       "    </tr>\n",
       "    <tr>\n",
       "      <th>137</th>\n",
       "      <td>300</td>\n",
       "      <td>8</td>\n",
       "      <td>1743033600000</td>\n",
       "      <td>0</td>\n",
       "      <td></td>\n",
       "    </tr>\n",
       "    <tr>\n",
       "      <th>138</th>\n",
       "      <td>303</td>\n",
       "      <td>23</td>\n",
       "      <td>1743811200000</td>\n",
       "      <td>0</td>\n",
       "      <td></td>\n",
       "    </tr>\n",
       "    <tr>\n",
       "      <th>139</th>\n",
       "      <td>305</td>\n",
       "      <td>23</td>\n",
       "      <td>1743638400000</td>\n",
       "      <td>0</td>\n",
       "      <td></td>\n",
       "    </tr>\n",
       "  </tbody>\n",
       "</table>\n",
       "<p>140 rows × 5 columns</p>\n",
       "</div>"
      ],
      "text/plain": [
       "      id  habit      timestamp  value notes\n",
       "0     67     12  1738540800000      0      \n",
       "1     73     12  1738368000000      0      \n",
       "2     75     12  1738281600000      0      \n",
       "3    102     16  1738800000000      0      \n",
       "4    105      8  1738454400000      0      \n",
       "..   ...    ...            ...    ...   ...\n",
       "135  298     14  1743033600000      0      \n",
       "136  299     15  1743033600000      0      \n",
       "137  300      8  1743033600000      0      \n",
       "138  303     23  1743811200000      0      \n",
       "139  305     23  1743638400000      0      \n",
       "\n",
       "[140 rows x 5 columns]"
      ]
     },
     "execution_count": 15,
     "metadata": {},
     "output_type": "execute_result"
    }
   ],
   "source": [
    "df"
   ]
  },
  {
   "cell_type": "code",
   "execution_count": 16,
   "id": "2e70c35e",
   "metadata": {},
   "outputs": [
    {
     "data": {
      "text/plain": [
       "140"
      ]
     },
     "execution_count": 16,
     "metadata": {},
     "output_type": "execute_result"
    }
   ],
   "source": [
    "df.to_sql(\"Repetitions\", conn, if_exists=\"replace\", index=False)"
   ]
  },
  {
   "cell_type": "code",
   "execution_count": null,
   "id": "18aadf1a",
   "metadata": {},
   "outputs": [],
   "source": []
  }
 ],
 "metadata": {
  "kernelspec": {
   "display_name": "base",
   "language": "python",
   "name": "python3"
  },
  "language_info": {
   "codemirror_mode": {
    "name": "ipython",
    "version": 3
   },
   "file_extension": ".py",
   "mimetype": "text/x-python",
   "name": "python",
   "nbconvert_exporter": "python",
   "pygments_lexer": "ipython3",
   "version": "3.11.7"
  }
 },
 "nbformat": 4,
 "nbformat_minor": 5
}
