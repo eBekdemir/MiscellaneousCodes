{
 "cells": [
  {
   "cell_type": "code",
   "execution_count": 1,
   "metadata": {},
   "outputs": [],
   "source": [
    "import pandas as pd"
   ]
  },
  {
   "cell_type": "code",
   "execution_count": 3,
   "metadata": {},
   "outputs": [],
   "source": [
    "top250 = pd.read_parquet('data/top250.parquet')\n",
    "sby1 = pd.read_parquet('data/suggested_by250_0_200.parquet')\n",
    "sby2 = pd.read_parquet('data/suggested_by250_200_417.parquet')"
   ]
  },
  {
   "cell_type": "code",
   "execution_count": 4,
   "metadata": {},
   "outputs": [],
   "source": [
    "movies = pd.concat([top250, sby1, sby2], ignore_index=True)"
   ]
  },
  {
   "cell_type": "code",
   "execution_count": 7,
   "metadata": {},
   "outputs": [],
   "source": [
    "movies.to_parquet('data/movies.parquet')\n"
   ]
  },
  {
   "cell_type": "code",
   "execution_count": 11,
   "metadata": {},
   "outputs": [],
   "source": [
    "level2 = pd.concat([pd.read_parquet('data/suggested_level2_0_600.parquet'), \n",
    "                    pd.read_parquet('data/suggested_level2_600_800.parquet'), \n",
    "                    pd.read_parquet('data/suggested_level2_800_1000.parquet'),\n",
    "                    pd.read_parquet('data/suggested_level2_1000_1200.parquet'),\n",
    "                    pd.read_parquet('data/suggested_level2_1200_1428.parquet')], ignore_index=True)"
   ]
  },
  {
   "cell_type": "code",
   "execution_count": 12,
   "metadata": {},
   "outputs": [],
   "source": [
    "level2.to_parquet('data/suggested_level2.parquet')"
   ]
  },
  {
   "cell_type": "code",
   "execution_count": 13,
   "metadata": {},
   "outputs": [],
   "source": [
    "movies = pd.concat([movies, level2], ignore_index=True)\n",
    "movies.to_parquet('data/movies.parquet')"
   ]
  },
  {
   "cell_type": "code",
   "execution_count": null,
   "metadata": {},
   "outputs": [
    {
     "ename": "",
     "evalue": "",
     "output_type": "error",
     "traceback": [
      "\u001b[1;31mThe Kernel crashed while executing code in the current cell or a previous cell. \n",
      "\u001b[1;31mPlease review the code in the cell(s) to identify a possible cause of the failure. \n",
      "\u001b[1;31mClick <a href='https://aka.ms/vscodeJupyterKernelCrash'>here</a> for more info. \n",
      "\u001b[1;31mView Jupyter <a href='command:jupyter.viewOutput'>log</a> for further details."
     ]
    }
   ],
   "source": [
    "level3 = pd.concat([pd.read_parquet('data/suggested_level3_0_300.parquet'), \n",
    "                    pd.read_parquet('data/suggested_level3_300_600.parquet'), \n",
    "                    pd.read_parquet('data/suggested_level3_600_900.parquet'),\n",
    "                    pd.read_parquet('data/suggested_level3_900_1200.parquet'),\n",
    "                    pd.read_parquet('data/suggested_level3_1200_1500.parquet'),\n",
    "                    pd.read_parquet('data/suggested_level3_1500_1800.parquet'),\n",
    "                    pd.read_parquet('data/suggested_level3_1800_2100.parquet'),\n",
    "                    pd.read_parquet('data/suggested_level3_2100_2400.parquet'),\n",
    "                    pd.read_parquet('data/suggested_level3_2400_2700.parquet'),\n",
    "                    pd.read_parquet('data/suggested_level3_2700_3000.parquet'),\n",
    "                    pd.read_parquet('data/suggested_level3_3000_3300.parquet'),\n",
    "                    pd.read_parquet('data/suggested_level3_3300_3600.parquet'),\n",
    "                    pd.read_parquet('data/suggested_level3_3600_3900.parquet'),\n",
    "                    pd.read_parquet('data/suggested_level3_4200_4500.parquet')], ignore_index=True)\n",
    "level3.to_parquet('data/suggested_level3.parquet')\n",
    "movies = pd.concat([movies, level3], ignore_index=True)\n",
    "movies.to_parquet('data/movies.parquet')"
   ]
  },
  {
   "cell_type": "code",
   "execution_count": null,
   "metadata": {},
   "outputs": [],
   "source": []
  }
 ],
 "metadata": {
  "kernelspec": {
   "display_name": "backend",
   "language": "python",
   "name": "python3"
  },
  "language_info": {
   "codemirror_mode": {
    "name": "ipython",
    "version": 3
   },
   "file_extension": ".py",
   "mimetype": "text/x-python",
   "name": "python",
   "nbconvert_exporter": "python",
   "pygments_lexer": "ipython3",
   "version": "3.11.4"
  }
 },
 "nbformat": 4,
 "nbformat_minor": 2
}
