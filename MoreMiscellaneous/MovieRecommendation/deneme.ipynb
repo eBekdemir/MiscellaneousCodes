{
 "cells": [
  {
   "cell_type": "code",
   "execution_count": 1,
   "metadata": {},
   "outputs": [],
   "source": [
    "import pandas as pd"
   ]
  },
  {
   "cell_type": "code",
   "execution_count": 85,
   "metadata": {},
   "outputs": [],
   "source": [
    "scores = pd.read_parquet('data/initial_scores.parquet')\n",
    "movies = pd.read_parquet('data/movies.parquet')\n",
    "pagerank = pd.read_parquet('data/pagerank_scores.parquet')"
   ]
  },
  {
   "cell_type": "code",
   "execution_count": 77,
   "metadata": {},
   "outputs": [],
   "source": [
    "scores.sort_values('ratingScore', ascending=False, inplace=True)"
   ]
  },
  {
   "cell_type": "code",
   "execution_count": 78,
   "metadata": {},
   "outputs": [
    {
     "data": {
      "application/vnd.microsoft.datawrangler.viewer.v0+json": {
       "columns": [
        {
         "name": "index",
         "rawType": "int64",
         "type": "integer"
        },
        {
         "name": "id",
         "rawType": "object",
         "type": "string"
        },
        {
         "name": "ratingScore",
         "rawType": "float64",
         "type": "float"
        },
        {
         "name": "genreScore",
         "rawType": "float64",
         "type": "float"
        }
       ],
       "conversionMethod": "pd.DataFrame",
       "ref": "086d78f0-8f61-4d53-85de-731410c7b068",
       "rows": [
        [
         "2267",
         "tt0903747",
         "18.092698395796525",
         "4.0"
        ],
        [
         "0",
         "tt0111161",
         "17.175134806994468",
         "4.0"
        ],
        [
         "7592",
         "tt0944947",
         "16.717677298435223",
         "4.0"
        ],
        [
         "1",
         "tt0068646",
         "16.71667328678546",
         "4.0"
        ],
        [
         "4206",
         "tt0185906",
         "16.480664213873183",
         "4.0"
        ],
        [
         "6419",
         "tt1475582",
         "16.255233374341735",
         "4.0"
        ],
        [
         "2195",
         "tt7366338",
         "16.066603872402112",
         "4.0"
        ],
        [
         "2",
         "tt0468569",
         "15.814360255381668",
         "4.0"
        ],
        [
         "5",
         "tt0167260",
         "15.811970041600913",
         "4.0"
        ],
        [
         "6",
         "tt0108052",
         "15.809162667501015",
         "4.0"
        ],
        [
         "3",
         "tt0071562",
         "15.808478631387699",
         "4.0"
        ],
        [
         "6112",
         "tt0141842",
         "15.629047606810511",
         "4.0"
        ],
        [
         "438",
         "tt0795176",
         "15.381394914419706",
         "4.0"
        ],
        [
         "7",
         "tt0110912",
         "15.364247022505754",
         "4.0"
        ],
        [
         "8",
         "tt0120737",
         "15.363544586719055",
         "4.0"
        ],
        [
         "3699",
         "tt0108778",
         "15.357342775073592",
         "4.0"
        ],
        [
         "5880",
         "tt2861424",
         "15.213556792010946",
         "4.0"
        ],
        [
         "1652",
         "tt2560140",
         "15.211380229877527",
         "4.0"
        ],
        [
         "2279",
         "tt0417299",
         "15.015211050199403",
         "4.0"
        ],
        [
         "860",
         "tt0306414",
         "15.015183897625786",
         "4.0"
        ],
        [
         "13",
         "tt1375666",
         "14.919052244915106",
         "4.0"
        ],
        [
         "12",
         "tt0137523",
         "14.918540205235024",
         "4.0"
        ],
        [
         "10",
         "tt0109830",
         "14.91833439331006",
         "4.0"
        ],
        [
         "11",
         "tt0167261",
         "14.916629662476234",
         "4.0"
        ],
        [
         "4",
         "tt0050083",
         "14.801205827709188",
         "4.0"
        ],
        [
         "2107",
         "tt0386676",
         "14.79801889096907",
         "4.0"
        ],
        [
         "2063",
         "tt3032476",
         "14.796647461089158",
         "4.0"
        ],
        [
         "18",
         "tt0816692",
         "14.474629634743142",
         "4.0"
        ],
        [
         "15",
         "tt0133093",
         "14.474183584605816",
         "4.0"
        ],
        [
         "14",
         "tt0080684",
         "14.470826466073696",
         "4.0"
        ],
        [
         "6964",
         "tt4574334",
         "14.470773081736054",
         "4.0"
        ],
        [
         "16",
         "tt0099685",
         "14.469918747853058",
         "4.0"
        ],
        [
         "17",
         "tt0073486",
         "14.467900892485687",
         "4.0"
        ],
        [
         "2256",
         "tt2356777",
         "14.378906128800109",
         "4.0"
        ],
        [
         "4033",
         "tt5491994",
         "14.365594910196876",
         "4.0"
        ],
        [
         "974",
         "tt1355642",
         "14.199640421930608",
         "4.0"
        ],
        [
         "19",
         "tt0114369",
         "14.032362144354783",
         "4.0"
        ],
        [
         "22",
         "tt0102926",
         "14.031117377912869",
         "4.0"
        ],
        [
         "23",
         "tt0120815",
         "14.030772267744053",
         "4.0"
        ],
        [
         "28",
         "tt0076759",
         "14.03041908692374",
         "4.0"
        ],
        [
         "25",
         "tt0120689",
         "14.030253347257219",
         "4.0"
        ],
        [
         "27",
         "tt0103064",
         "14.02830293314452",
         "4.0"
        ],
        [
         "9",
         "tt0060196",
         "13.967635511866328",
         "4.0"
        ],
        [
         "12821",
         "tt11126994",
         "13.838358368229684",
         "4.0"
        ],
        [
         "3224",
         "tt0388629",
         "13.825900822457974",
         "4.0"
        ],
        [
         "29935",
         "tt12392504",
         "13.63407993154946",
         "4.0"
        ],
        [
         "7424",
         "tt2395695",
         "13.615247011982184",
         "4.0"
        ],
        [
         "52",
         "tt1853728",
         "13.59351009916772",
         "4.0"
        ],
        [
         "32",
         "tt0172495",
         "13.593360701979682",
         "4.0"
        ],
        [
         "41",
         "tt0482571",
         "13.592129276084425",
         "4.0"
        ]
       ],
       "shape": {
        "columns": 3,
        "rows": 33317
       }
      },
      "text/html": [
       "<div>\n",
       "<style scoped>\n",
       "    .dataframe tbody tr th:only-of-type {\n",
       "        vertical-align: middle;\n",
       "    }\n",
       "\n",
       "    .dataframe tbody tr th {\n",
       "        vertical-align: top;\n",
       "    }\n",
       "\n",
       "    .dataframe thead th {\n",
       "        text-align: right;\n",
       "    }\n",
       "</style>\n",
       "<table border=\"1\" class=\"dataframe\">\n",
       "  <thead>\n",
       "    <tr style=\"text-align: right;\">\n",
       "      <th></th>\n",
       "      <th>id</th>\n",
       "      <th>ratingScore</th>\n",
       "      <th>genreScore</th>\n",
       "    </tr>\n",
       "  </thead>\n",
       "  <tbody>\n",
       "    <tr>\n",
       "      <th>2267</th>\n",
       "      <td>tt0903747</td>\n",
       "      <td>18.092698</td>\n",
       "      <td>4.0</td>\n",
       "    </tr>\n",
       "    <tr>\n",
       "      <th>0</th>\n",
       "      <td>tt0111161</td>\n",
       "      <td>17.175135</td>\n",
       "      <td>4.0</td>\n",
       "    </tr>\n",
       "    <tr>\n",
       "      <th>7592</th>\n",
       "      <td>tt0944947</td>\n",
       "      <td>16.717677</td>\n",
       "      <td>4.0</td>\n",
       "    </tr>\n",
       "    <tr>\n",
       "      <th>1</th>\n",
       "      <td>tt0068646</td>\n",
       "      <td>16.716673</td>\n",
       "      <td>4.0</td>\n",
       "    </tr>\n",
       "    <tr>\n",
       "      <th>4206</th>\n",
       "      <td>tt0185906</td>\n",
       "      <td>16.480664</td>\n",
       "      <td>4.0</td>\n",
       "    </tr>\n",
       "    <tr>\n",
       "      <th>...</th>\n",
       "      <td>...</td>\n",
       "      <td>...</td>\n",
       "      <td>...</td>\n",
       "    </tr>\n",
       "    <tr>\n",
       "      <th>27216</th>\n",
       "      <td>tt13423846</td>\n",
       "      <td>-6.774116</td>\n",
       "      <td>4.0</td>\n",
       "    </tr>\n",
       "    <tr>\n",
       "      <th>11997</th>\n",
       "      <td>tt0270846</td>\n",
       "      <td>-6.839059</td>\n",
       "      <td>4.0</td>\n",
       "    </tr>\n",
       "    <tr>\n",
       "      <th>18438</th>\n",
       "      <td>tt14723224</td>\n",
       "      <td>-7.219231</td>\n",
       "      <td>4.0</td>\n",
       "    </tr>\n",
       "    <tr>\n",
       "      <th>25401</th>\n",
       "      <td>tt10888594</td>\n",
       "      <td>-7.556373</td>\n",
       "      <td>4.0</td>\n",
       "    </tr>\n",
       "    <tr>\n",
       "      <th>8695</th>\n",
       "      <td>tt6038600</td>\n",
       "      <td>-7.667549</td>\n",
       "      <td>4.0</td>\n",
       "    </tr>\n",
       "  </tbody>\n",
       "</table>\n",
       "<p>33317 rows × 3 columns</p>\n",
       "</div>"
      ],
      "text/plain": [
       "               id  ratingScore  genreScore\n",
       "2267    tt0903747    18.092698         4.0\n",
       "0       tt0111161    17.175135         4.0\n",
       "7592    tt0944947    16.717677         4.0\n",
       "1       tt0068646    16.716673         4.0\n",
       "4206    tt0185906    16.480664         4.0\n",
       "...           ...          ...         ...\n",
       "27216  tt13423846    -6.774116         4.0\n",
       "11997   tt0270846    -6.839059         4.0\n",
       "18438  tt14723224    -7.219231         4.0\n",
       "25401  tt10888594    -7.556373         4.0\n",
       "8695    tt6038600    -7.667549         4.0\n",
       "\n",
       "[33317 rows x 3 columns]"
      ]
     },
     "execution_count": 78,
     "metadata": {},
     "output_type": "execute_result"
    }
   ],
   "source": [
    "scores"
   ]
  },
  {
   "cell_type": "code",
   "execution_count": 81,
   "metadata": {},
   "outputs": [],
   "source": [
    "x = movies.merge(scores[scores['ratingScore']!=5.0], on='id')[['id', 'title', 'ratingScore', 'genreScore', 'ratingCount', 'rating']]\n",
    "x['totalScore'] = x['ratingScore'] + x['genreScore']\n",
    "x.sort_values('totalScore', ascending=False, inplace=True)"
   ]
  },
  {
   "cell_type": "code",
   "execution_count": 82,
   "metadata": {},
   "outputs": [
    {
     "data": {
      "application/vnd.microsoft.datawrangler.viewer.v0+json": {
       "columns": [
        {
         "name": "index",
         "rawType": "int64",
         "type": "integer"
        },
        {
         "name": "id",
         "rawType": "object",
         "type": "string"
        },
        {
         "name": "title",
         "rawType": "object",
         "type": "string"
        },
        {
         "name": "ratingScore",
         "rawType": "float64",
         "type": "float"
        },
        {
         "name": "genreScore",
         "rawType": "float64",
         "type": "float"
        },
        {
         "name": "ratingCount",
         "rawType": "int64",
         "type": "integer"
        },
        {
         "name": "rating",
         "rawType": "float64",
         "type": "float"
        },
        {
         "name": "totalScore",
         "rawType": "float64",
         "type": "float"
        }
       ],
       "conversionMethod": "pd.DataFrame",
       "ref": "f08508cb-b56e-47f5-a06d-7aa73eb09843",
       "rows": [
        [
         "2267",
         "tt0903747",
         "Breaking Bad",
         "18.092698395796525",
         "4.0",
         "2282060",
         "9.5",
         "22.092698395796525"
        ],
        [
         "0",
         "tt0111161",
         "The Shawshank Redemption",
         "17.175134806994468",
         "4.0",
         "3006023",
         "9.3",
         "21.175134806994468"
        ],
        [
         "7592",
         "tt0944947",
         "Game of Thrones",
         "16.717677298435223",
         "4.0",
         "2400431",
         "9.2",
         "20.717677298435223"
        ],
        [
         "1",
         "tt0068646",
         "The Godfather",
         "16.71667328678546",
         "4.0",
         "2097855",
         "9.2",
         "20.71667328678546"
        ],
        [
         "4206",
         "tt0185906",
         "Band of Brothers",
         "16.480664213873183",
         "4.0",
         "554267",
         "9.4",
         "20.480664213873183"
        ],
        [
         "6419",
         "tt1475582",
         "Sherlock",
         "16.255233374341735",
         "4.0",
         "1037054",
         "9.1",
         "20.255233374341735"
        ],
        [
         "2195",
         "tt7366338",
         "Chernobyl",
         "16.066603872402112",
         "4.0",
         "929422",
         "9.3",
         "20.066603872402112"
        ],
        [
         "2",
         "tt0468569",
         "The Dark Knight",
         "15.814360255381668",
         "4.0",
         "2983922",
         "9.0",
         "19.81436025538167"
        ],
        [
         "5",
         "tt0167260",
         "The Lord of the Rings: The Return of the King",
         "15.811970041600913",
         "4.0",
         "2056154",
         "9.0",
         "19.811970041600915"
        ],
        [
         "6",
         "tt0108052",
         "Schindler's List",
         "15.809162667501015",
         "4.0",
         "1506001",
         "9.0",
         "19.809162667501013"
        ],
        [
         "3",
         "tt0071562",
         "The Godfather Part II",
         "15.808478631387699",
         "4.0",
         "1413809",
         "9.0",
         "19.8084786313877"
        ],
        [
         "6112",
         "tt0141842",
         "The Sopranos",
         "15.629047606810511",
         "4.0",
         "512294",
         "9.2",
         "19.62904760681051"
        ],
        [
         "438",
         "tt0795176",
         "Planet Earth",
         "15.381394914419706",
         "4.0",
         "226095",
         "9.4",
         "19.381394914419708"
        ],
        [
         "7",
         "tt0110912",
         "Pulp Fiction",
         "15.364247022505754",
         "4.0",
         "2305070",
         "8.9",
         "19.364247022505754"
        ],
        [
         "8",
         "tt0120737",
         "The Lord of the Rings: The Fellowship of the Ring",
         "15.363544586719055",
         "4.0",
         "2085214",
         "8.9",
         "19.363544586719055"
        ],
        [
         "3699",
         "tt0108778",
         "Friends",
         "15.357342775073592",
         "4.0",
         "1131741",
         "8.9",
         "19.35734277507359"
        ],
        [
         "5880",
         "tt2861424",
         "Rick and Morty",
         "15.213556792010946",
         "4.0",
         "637910",
         "9.1",
         "19.213556792010948"
        ],
        [
         "1652",
         "tt2560140",
         "Attack on Titan",
         "15.211380229877527",
         "4.0",
         "584477",
         "9.1",
         "19.211380229877527"
        ],
        [
         "2279",
         "tt0417299",
         "Avatar: The Last Airbender",
         "15.015211050199403",
         "4.0",
         "398027",
         "9.3",
         "19.015211050199404"
        ],
        [
         "860",
         "tt0306414",
         "The Wire",
         "15.015183897625786",
         "4.0",
         "397740",
         "9.3",
         "19.015183897625786"
        ],
        [
         "13",
         "tt1375666",
         "Inception",
         "14.919052244915106",
         "4.0",
         "2651549",
         "8.8",
         "18.919052244915108"
        ],
        [
         "12",
         "tt0137523",
         "Fight Club",
         "14.918540205235024",
         "4.0",
         "2430291",
         "8.8",
         "18.918540205235026"
        ],
        [
         "10",
         "tt0109830",
         "Forrest Gump",
         "14.91833439331006",
         "4.0",
         "2351420",
         "8.8",
         "18.91833439331006"
        ],
        [
         "11",
         "tt0167261",
         "The Lord of the Rings: The Two Towers",
         "14.916629662476234",
         "4.0",
         "1853199",
         "8.8",
         "18.916629662476232"
        ],
        [
         "4",
         "tt0050083",
         "12 Angry Men",
         "14.801205827709188",
         "4.0",
         "910948",
         "9.0",
         "18.80120582770919"
        ],
        [
         "2107",
         "tt0386676",
         "The Office",
         "14.79801889096907",
         "4.0",
         "761408",
         "9.0",
         "18.798018890969068"
        ],
        [
         "2063",
         "tt3032476",
         "Better Call Saul",
         "14.796647461089158",
         "4.0",
         "711155",
         "9.0",
         "18.796647461089158"
        ],
        [
         "18",
         "tt0816692",
         "Interstellar",
         "14.474629634743142",
         "4.0",
         "2281707",
         "8.7",
         "18.474629634743142"
        ],
        [
         "15",
         "tt0133093",
         "The Matrix",
         "14.474183584605816",
         "4.0",
         "2131747",
         "8.7",
         "18.474183584605818"
        ],
        [
         "14",
         "tt0080684",
         "Star Wars: Episode V - The Empire Strikes Back",
         "14.470826466073696",
         "4.0",
         "1426127",
         "8.7",
         "18.470826466073696"
        ],
        [
         "6964",
         "tt4574334",
         "Stranger Things",
         "14.470773081736054",
         "4.0",
         "1418658",
         "8.7",
         "18.470773081736056"
        ],
        [
         "16",
         "tt0099685",
         "Goodfellas",
         "14.469918747853058",
         "4.0",
         "1308943",
         "8.7",
         "18.469918747853058"
        ],
        [
         "17",
         "tt0073486",
         "One Flew Over the Cuckoo's Nest",
         "14.467900892485687",
         "4.0",
         "1106742",
         "8.7",
         "18.467900892485687"
        ],
        [
         "2256",
         "tt2356777",
         "True Detective",
         "14.378906128800109",
         "4.0",
         "691076",
         "8.9",
         "18.37890612880011"
        ],
        [
         "4033",
         "tt5491994",
         "Planet Earth II",
         "14.365594910196876",
         "4.0",
         "165070",
         "9.4",
         "18.365594910196876"
        ],
        [
         "974",
         "tt1355642",
         "Fullmetal Alchemist: Brotherhood",
         "14.199640421930608",
         "4.0",
         "214928",
         "9.1",
         "18.19964042193061"
        ],
        [
         "19",
         "tt0114369",
         "Se7en",
         "14.032362144354783",
         "4.0",
         "1883882",
         "8.6",
         "18.032362144354785"
        ],
        [
         "22",
         "tt0102926",
         "The Silence of the Lambs",
         "14.031117377912869",
         "4.0",
         "1613995",
         "8.6",
         "18.03111737791287"
        ],
        [
         "23",
         "tt0120815",
         "Saving Private Ryan",
         "14.030772267744053",
         "4.0",
         "1552331",
         "8.6",
         "18.030772267744055"
        ],
        [
         "28",
         "tt0076759",
         "Star Wars: Episode IV - A New Hope",
         "14.03041908692374",
         "4.0",
         "1493917",
         "8.6",
         "18.03041908692374"
        ],
        [
         "25",
         "tt0120689",
         "The Green Mile",
         "14.030253347257219",
         "4.0",
         "1467993",
         "8.6",
         "18.03025334725722"
        ],
        [
         "27",
         "tt0103064",
         "Terminator 2: Judgment Day",
         "14.02830293314452",
         "4.0",
         "1219020",
         "8.6",
         "18.02830293314452"
        ],
        [
         "9",
         "tt0060196",
         "The Good, the Bad and the Ugly",
         "13.967635511866328",
         "4.0",
         "843482",
         "8.8",
         "17.967635511866327"
        ],
        [
         "12821",
         "tt11126994",
         "Arcane",
         "13.838358368229684",
         "4.0",
         "377739",
         "9.0",
         "17.838358368229684"
        ],
        [
         "3224",
         "tt0388629",
         "One Piece",
         "13.825900822457974",
         "4.0",
         "281631",
         "9.0",
         "17.825900822457974"
        ],
        [
         "29935",
         "tt12392504",
         "Scam 1992: The Harshad Mehta Story",
         "13.63407993154946",
         "4.0",
         "163733",
         "9.2",
         "17.634079931549458"
        ],
        [
         "7424",
         "tt2395695",
         "Cosmos: A Spacetime Odyssey",
         "13.615247011982184",
         "4.0",
         "133348",
         "9.2",
         "17.615247011982184"
        ],
        [
         "52",
         "tt1853728",
         "Django Unchained",
         "13.59351009916772",
         "4.0",
         "1766408",
         "8.5",
         "17.59351009916772"
        ],
        [
         "32",
         "tt0172495",
         "Gladiator",
         "13.593360701979682",
         "4.0",
         "1732750",
         "8.5",
         "17.593360701979684"
        ],
        [
         "41",
         "tt0482571",
         "The Prestige",
         "13.592129276084425",
         "4.0",
         "1497526",
         "8.5",
         "17.592129276084425"
        ]
       ],
       "shape": {
        "columns": 7,
        "rows": 33317
       }
      },
      "text/html": [
       "<div>\n",
       "<style scoped>\n",
       "    .dataframe tbody tr th:only-of-type {\n",
       "        vertical-align: middle;\n",
       "    }\n",
       "\n",
       "    .dataframe tbody tr th {\n",
       "        vertical-align: top;\n",
       "    }\n",
       "\n",
       "    .dataframe thead th {\n",
       "        text-align: right;\n",
       "    }\n",
       "</style>\n",
       "<table border=\"1\" class=\"dataframe\">\n",
       "  <thead>\n",
       "    <tr style=\"text-align: right;\">\n",
       "      <th></th>\n",
       "      <th>id</th>\n",
       "      <th>title</th>\n",
       "      <th>ratingScore</th>\n",
       "      <th>genreScore</th>\n",
       "      <th>ratingCount</th>\n",
       "      <th>rating</th>\n",
       "      <th>totalScore</th>\n",
       "    </tr>\n",
       "  </thead>\n",
       "  <tbody>\n",
       "    <tr>\n",
       "      <th>2267</th>\n",
       "      <td>tt0903747</td>\n",
       "      <td>Breaking Bad</td>\n",
       "      <td>18.092698</td>\n",
       "      <td>4.0</td>\n",
       "      <td>2282060</td>\n",
       "      <td>9.5</td>\n",
       "      <td>22.092698</td>\n",
       "    </tr>\n",
       "    <tr>\n",
       "      <th>0</th>\n",
       "      <td>tt0111161</td>\n",
       "      <td>The Shawshank Redemption</td>\n",
       "      <td>17.175135</td>\n",
       "      <td>4.0</td>\n",
       "      <td>3006023</td>\n",
       "      <td>9.3</td>\n",
       "      <td>21.175135</td>\n",
       "    </tr>\n",
       "    <tr>\n",
       "      <th>7592</th>\n",
       "      <td>tt0944947</td>\n",
       "      <td>Game of Thrones</td>\n",
       "      <td>16.717677</td>\n",
       "      <td>4.0</td>\n",
       "      <td>2400431</td>\n",
       "      <td>9.2</td>\n",
       "      <td>20.717677</td>\n",
       "    </tr>\n",
       "    <tr>\n",
       "      <th>1</th>\n",
       "      <td>tt0068646</td>\n",
       "      <td>The Godfather</td>\n",
       "      <td>16.716673</td>\n",
       "      <td>4.0</td>\n",
       "      <td>2097855</td>\n",
       "      <td>9.2</td>\n",
       "      <td>20.716673</td>\n",
       "    </tr>\n",
       "    <tr>\n",
       "      <th>4206</th>\n",
       "      <td>tt0185906</td>\n",
       "      <td>Band of Brothers</td>\n",
       "      <td>16.480664</td>\n",
       "      <td>4.0</td>\n",
       "      <td>554267</td>\n",
       "      <td>9.4</td>\n",
       "      <td>20.480664</td>\n",
       "    </tr>\n",
       "    <tr>\n",
       "      <th>...</th>\n",
       "      <td>...</td>\n",
       "      <td>...</td>\n",
       "      <td>...</td>\n",
       "      <td>...</td>\n",
       "      <td>...</td>\n",
       "      <td>...</td>\n",
       "      <td>...</td>\n",
       "    </tr>\n",
       "    <tr>\n",
       "      <th>27216</th>\n",
       "      <td>tt13423846</td>\n",
       "      <td>321 Action</td>\n",
       "      <td>-6.774116</td>\n",
       "      <td>4.0</td>\n",
       "      <td>10235</td>\n",
       "      <td>1.0</td>\n",
       "      <td>-2.774116</td>\n",
       "    </tr>\n",
       "    <tr>\n",
       "      <th>11997</th>\n",
       "      <td>tt0270846</td>\n",
       "      <td>Superbabies: Baby Geniuses 2</td>\n",
       "      <td>-6.839059</td>\n",
       "      <td>4.0</td>\n",
       "      <td>31876</td>\n",
       "      <td>1.5</td>\n",
       "      <td>-2.839059</td>\n",
       "    </tr>\n",
       "    <tr>\n",
       "      <th>18438</th>\n",
       "      <td>tt14723224</td>\n",
       "      <td>The Cost of Deception</td>\n",
       "      <td>-7.219231</td>\n",
       "      <td>4.0</td>\n",
       "      <td>40709</td>\n",
       "      <td>1.5</td>\n",
       "      <td>-3.219231</td>\n",
       "    </tr>\n",
       "    <tr>\n",
       "      <th>25401</th>\n",
       "      <td>tt10888594</td>\n",
       "      <td>Radhe</td>\n",
       "      <td>-7.556373</td>\n",
       "      <td>4.0</td>\n",
       "      <td>180439</td>\n",
       "      <td>1.8</td>\n",
       "      <td>-3.556373</td>\n",
       "    </tr>\n",
       "    <tr>\n",
       "      <th>8695</th>\n",
       "      <td>tt6038600</td>\n",
       "      <td>Smolensk</td>\n",
       "      <td>-7.667549</td>\n",
       "      <td>4.0</td>\n",
       "      <td>40264</td>\n",
       "      <td>1.2</td>\n",
       "      <td>-3.667549</td>\n",
       "    </tr>\n",
       "  </tbody>\n",
       "</table>\n",
       "<p>33317 rows × 7 columns</p>\n",
       "</div>"
      ],
      "text/plain": [
       "               id                         title  ratingScore  genreScore  \\\n",
       "2267    tt0903747                  Breaking Bad    18.092698         4.0   \n",
       "0       tt0111161      The Shawshank Redemption    17.175135         4.0   \n",
       "7592    tt0944947               Game of Thrones    16.717677         4.0   \n",
       "1       tt0068646                 The Godfather    16.716673         4.0   \n",
       "4206    tt0185906              Band of Brothers    16.480664         4.0   \n",
       "...           ...                           ...          ...         ...   \n",
       "27216  tt13423846                    321 Action    -6.774116         4.0   \n",
       "11997   tt0270846  Superbabies: Baby Geniuses 2    -6.839059         4.0   \n",
       "18438  tt14723224         The Cost of Deception    -7.219231         4.0   \n",
       "25401  tt10888594                         Radhe    -7.556373         4.0   \n",
       "8695    tt6038600                      Smolensk    -7.667549         4.0   \n",
       "\n",
       "       ratingCount  rating  totalScore  \n",
       "2267       2282060     9.5   22.092698  \n",
       "0          3006023     9.3   21.175135  \n",
       "7592       2400431     9.2   20.717677  \n",
       "1          2097855     9.2   20.716673  \n",
       "4206        554267     9.4   20.480664  \n",
       "...            ...     ...         ...  \n",
       "27216        10235     1.0   -2.774116  \n",
       "11997        31876     1.5   -2.839059  \n",
       "18438        40709     1.5   -3.219231  \n",
       "25401       180439     1.8   -3.556373  \n",
       "8695         40264     1.2   -3.667549  \n",
       "\n",
       "[33317 rows x 7 columns]"
      ]
     },
     "execution_count": 82,
     "metadata": {},
     "output_type": "execute_result"
    }
   ],
   "source": [
    "x"
   ]
  },
  {
   "cell_type": "code",
   "execution_count": 64,
   "metadata": {},
   "outputs": [
    {
     "data": {
      "text/plain": [
       "np.float64(1.6182926537118616)"
      ]
     },
     "execution_count": 64,
     "metadata": {},
     "output_type": "execute_result"
    }
   ],
   "source": [
    "scores['ratingScore'].median()"
   ]
  },
  {
   "cell_type": "code",
   "execution_count": 63,
   "metadata": {},
   "outputs": [
    {
     "data": {
      "text/plain": [
       "np.float64(2.3702972744250292)"
      ]
     },
     "execution_count": 63,
     "metadata": {},
     "output_type": "execute_result"
    }
   ],
   "source": [
    "scores['ratingScore'].mean()"
   ]
  },
  {
   "cell_type": "code",
   "execution_count": 38,
   "metadata": {},
   "outputs": [
    {
     "data": {
      "text/plain": [
       "np.float64(18.092698395796525)"
      ]
     },
     "execution_count": 38,
     "metadata": {},
     "output_type": "execute_result"
    }
   ],
   "source": [
    "scores['ratingScore'].max()"
   ]
  },
  {
   "cell_type": "code",
   "execution_count": 39,
   "metadata": {},
   "outputs": [
    {
     "data": {
      "text/plain": [
       "np.float64(-7.667549170601277)"
      ]
     },
     "execution_count": 39,
     "metadata": {},
     "output_type": "execute_result"
    }
   ],
   "source": [
    "scores['ratingScore'].min()\n"
   ]
  },
  {
   "cell_type": "code",
   "execution_count": 50,
   "metadata": {},
   "outputs": [],
   "source": [
    "scores2 = movies[['id']].copy()\n",
    "movies['genres'] = movies['genres'].str.split(':,:')"
   ]
  },
  {
   "cell_type": "code",
   "execution_count": 83,
   "metadata": {},
   "outputs": [
    {
     "name": "stdout",
     "output_type": "stream",
     "text": [
      "<class 'pandas.core.frame.DataFrame'>\n",
      "Index: 33317 entries, 2267 to 8695\n",
      "Data columns (total 3 columns):\n",
      " #   Column       Non-Null Count  Dtype  \n",
      "---  ------       --------------  -----  \n",
      " 0   id           33317 non-null  object \n",
      " 1   ratingScore  33317 non-null  float64\n",
      " 2   genreScore   33317 non-null  float64\n",
      "dtypes: float64(2), object(1)\n",
      "memory usage: 1.0+ MB\n"
     ]
    }
   ],
   "source": [
    "scores.info()"
   ]
  },
  {
   "cell_type": "code",
   "execution_count": 86,
   "metadata": {},
   "outputs": [
    {
     "name": "stdout",
     "output_type": "stream",
     "text": [
      "<class 'pandas.core.frame.DataFrame'>\n",
      "Index: 33317 entries, 32246 to 26249\n",
      "Data columns (total 2 columns):\n",
      " #   Column    Non-Null Count  Dtype  \n",
      "---  ------    --------------  -----  \n",
      " 0   id        33317 non-null  object \n",
      " 1   pagerank  33317 non-null  float64\n",
      "dtypes: float64(1), object(1)\n",
      "memory usage: 780.9+ KB\n"
     ]
    }
   ],
   "source": [
    "pagerank.info()"
   ]
  },
  {
   "cell_type": "code",
   "execution_count": 87,
   "metadata": {},
   "outputs": [],
   "source": [
    "pagerank.sort_values('pagerank', ascending=False, inplace=True)"
   ]
  },
  {
   "cell_type": "code",
   "execution_count": 90,
   "metadata": {},
   "outputs": [],
   "source": [
    "movie = pd.merge(pagerank, movies, on='id')[['id', 'title', 'pagerank']]"
   ]
  },
  {
   "cell_type": "code",
   "execution_count": 92,
   "metadata": {},
   "outputs": [],
   "source": [
    "movie.sort_values('pagerank', ascending=False, inplace=True)"
   ]
  },
  {
   "cell_type": "code",
   "execution_count": 93,
   "metadata": {},
   "outputs": [
    {
     "data": {
      "application/vnd.microsoft.datawrangler.viewer.v0+json": {
       "columns": [
        {
         "name": "index",
         "rawType": "int64",
         "type": "integer"
        },
        {
         "name": "id",
         "rawType": "object",
         "type": "string"
        },
        {
         "name": "title",
         "rawType": "object",
         "type": "string"
        },
        {
         "name": "pagerank",
         "rawType": "float64",
         "type": "float"
        }
       ],
       "conversionMethod": "pd.DataFrame",
       "ref": "c364679c-d12a-4769-9cbb-560c4c0f4b72",
       "rows": [
        [
         "0",
         "tt0137523",
         "Fight Club",
         "0.0009325656911101925"
        ],
        [
         "1",
         "tt0109830",
         "Forrest Gump",
         "0.0008896960563730087"
        ],
        [
         "2",
         "tt1375666",
         "Inception",
         "0.0007925292134872747"
        ],
        [
         "3",
         "tt0110912",
         "Pulp Fiction",
         "0.0007461777423507911"
        ],
        [
         "4",
         "tt0468569",
         "The Dark Knight",
         "0.0006515536781061382"
        ],
        [
         "5",
         "tt4574334",
         "Stranger Things",
         "0.0006374264590674375"
        ],
        [
         "6",
         "tt0114369",
         "Se7en",
         "0.0006030973060135357"
        ],
        [
         "7",
         "tt0133093",
         "The Matrix",
         "0.0005962591330028352"
        ],
        [
         "8",
         "tt3581920",
         "The Last of Us",
         "0.0005530903066847611"
        ],
        [
         "9",
         "tt0944947",
         "Game of Thrones",
         "0.0005411481509721297"
        ],
        [
         "10",
         "tt1853728",
         "Django Unchained",
         "0.0005174048355249682"
        ],
        [
         "11",
         "tt1130884",
         "Shutter Island",
         "0.0005132073683723747"
        ],
        [
         "12",
         "tt0903747",
         "Breaking Bad",
         "0.0005069599010961513"
        ],
        [
         "13",
         "tt0111161",
         "The Shawshank Redemption",
         "0.0004575575769661424"
        ],
        [
         "14",
         "tt2085059",
         "Black Mirror",
         "0.00045008062533269014"
        ],
        [
         "15",
         "tt1457767",
         "The Conjuring",
         "0.0004441815227345939"
        ],
        [
         "16",
         "tt1190634",
         "The Boys",
         "0.00044356639928378204"
        ],
        [
         "17",
         "tt0993846",
         "The Wolf of Wall Street",
         "0.000441193552809912"
        ],
        [
         "18",
         "tt3032476",
         "Better Call Saul",
         "0.0004113798828284665"
        ],
        [
         "19",
         "tt0147800",
         "10 Things I Hate About You",
         "0.0004092601267669529"
        ],
        [
         "20",
         "tt0120815",
         "Saving Private Ryan",
         "0.00040625055470284646"
        ],
        [
         "21",
         "tt0848228",
         "The Avengers",
         "0.00040532541040639046"
        ],
        [
         "22",
         "tt2395427",
         "Avengers: Age of Ultron",
         "0.0003939999544766756"
        ],
        [
         "23",
         "tt3501632",
         "Thor: Ragnarok",
         "0.00038556072786839816"
        ],
        [
         "24",
         "tt0068646",
         "The Godfather",
         "0.0003842777843118072"
        ],
        [
         "25",
         "tt3498820",
         "Captain America: Civil War",
         "0.00038181598160262213"
        ],
        [
         "26",
         "tt21823606",
         "A Real Pain",
         "0.00036718111092147026"
        ],
        [
         "27",
         "tt0038458",
         "Deadline at Dawn",
         "0.00036377087086294124"
        ],
        [
         "28",
         "tt0251127",
         "How to Lose a Guy in 10 Days",
         "0.00035759775908430423"
        ],
        [
         "29",
         "tt0099685",
         "Goodfellas",
         "0.00035517989044625537"
        ],
        [
         "30",
         "tt23055660",
         "Nickel Boys",
         "0.00035027769360460205"
        ],
        [
         "31",
         "tt1300854",
         "Iron Man 3",
         "0.00034974688056235915"
        ],
        [
         "32",
         "tt7366338",
         "Chernobyl",
         "0.0003438950494307071"
        ],
        [
         "33",
         "tt0102926",
         "The Silence of the Lambs",
         "0.0003435966005475105"
        ],
        [
         "34",
         "tt26470109",
         "Oddity",
         "0.0003366333319348059"
        ],
        [
         "35",
         "tt3318220",
         "Boys",
         "0.0003340702844225162"
        ],
        [
         "36",
         "tt1211837",
         "Doctor Strange",
         "0.0003332695561520603"
        ],
        [
         "37",
         "tt28607951",
         "Anora",
         "0.0003299610767926463"
        ],
        [
         "38",
         "tt2318625",
         "Out in the Dark",
         "0.0003244079988374106"
        ],
        [
         "39",
         "tt0108052",
         "Schindler's List",
         "0.0003225100182372734"
        ],
        [
         "40",
         "tt0100405",
         "Pretty Woman",
         "0.00031852076308795565"
        ],
        [
         "41",
         "tt6999052",
         "Mario",
         "0.00031760742860296076"
        ],
        [
         "42",
         "tt10236164",
         "The Girl with the Needle",
         "0.0003168822195422106"
        ],
        [
         "43",
         "tt1041829",
         "The Proposal",
         "0.0003139023733593127"
        ],
        [
         "44",
         "tt0482571",
         "The Prestige",
         "0.00031093018895320167"
        ],
        [
         "45",
         "tt0120689",
         "The Green Mile",
         "0.00031071273258082184"
        ],
        [
         "46",
         "tt28082769",
         "September 5",
         "0.0003092740425816556"
        ],
        [
         "47",
         "tt0047263",
         "Naked Alibi",
         "0.0003035872690580109"
        ],
        [
         "48",
         "tt0332280",
         "The Notebook",
         "0.00030233481122597444"
        ],
        [
         "49",
         "tt12343534",
         "Jujutsu Kaisen",
         "0.0003019430678241986"
        ]
       ],
       "shape": {
        "columns": 3,
        "rows": 33317
       }
      },
      "text/html": [
       "<div>\n",
       "<style scoped>\n",
       "    .dataframe tbody tr th:only-of-type {\n",
       "        vertical-align: middle;\n",
       "    }\n",
       "\n",
       "    .dataframe tbody tr th {\n",
       "        vertical-align: top;\n",
       "    }\n",
       "\n",
       "    .dataframe thead th {\n",
       "        text-align: right;\n",
       "    }\n",
       "</style>\n",
       "<table border=\"1\" class=\"dataframe\">\n",
       "  <thead>\n",
       "    <tr style=\"text-align: right;\">\n",
       "      <th></th>\n",
       "      <th>id</th>\n",
       "      <th>title</th>\n",
       "      <th>pagerank</th>\n",
       "    </tr>\n",
       "  </thead>\n",
       "  <tbody>\n",
       "    <tr>\n",
       "      <th>0</th>\n",
       "      <td>tt0137523</td>\n",
       "      <td>Fight Club</td>\n",
       "      <td>0.000933</td>\n",
       "    </tr>\n",
       "    <tr>\n",
       "      <th>1</th>\n",
       "      <td>tt0109830</td>\n",
       "      <td>Forrest Gump</td>\n",
       "      <td>0.000890</td>\n",
       "    </tr>\n",
       "    <tr>\n",
       "      <th>2</th>\n",
       "      <td>tt1375666</td>\n",
       "      <td>Inception</td>\n",
       "      <td>0.000793</td>\n",
       "    </tr>\n",
       "    <tr>\n",
       "      <th>3</th>\n",
       "      <td>tt0110912</td>\n",
       "      <td>Pulp Fiction</td>\n",
       "      <td>0.000746</td>\n",
       "    </tr>\n",
       "    <tr>\n",
       "      <th>4</th>\n",
       "      <td>tt0468569</td>\n",
       "      <td>The Dark Knight</td>\n",
       "      <td>0.000652</td>\n",
       "    </tr>\n",
       "    <tr>\n",
       "      <th>...</th>\n",
       "      <td>...</td>\n",
       "      <td>...</td>\n",
       "      <td>...</td>\n",
       "    </tr>\n",
       "    <tr>\n",
       "      <th>33311</th>\n",
       "      <td>tt21423436</td>\n",
       "      <td>Poong, the Joseon Psychiatrist</td>\n",
       "      <td>0.000005</td>\n",
       "    </tr>\n",
       "    <tr>\n",
       "      <th>33313</th>\n",
       "      <td>tt0086373</td>\n",
       "      <td>Strange Brew</td>\n",
       "      <td>0.000005</td>\n",
       "    </tr>\n",
       "    <tr>\n",
       "      <th>33314</th>\n",
       "      <td>tt0221718</td>\n",
       "      <td>Wrong Number</td>\n",
       "      <td>0.000005</td>\n",
       "    </tr>\n",
       "    <tr>\n",
       "      <th>33315</th>\n",
       "      <td>tt0043920</td>\n",
       "      <td>Pier 23</td>\n",
       "      <td>0.000005</td>\n",
       "    </tr>\n",
       "    <tr>\n",
       "      <th>33316</th>\n",
       "      <td>tt0051871</td>\n",
       "      <td>Live Fast, Die Young</td>\n",
       "      <td>0.000005</td>\n",
       "    </tr>\n",
       "  </tbody>\n",
       "</table>\n",
       "<p>33317 rows × 3 columns</p>\n",
       "</div>"
      ],
      "text/plain": [
       "               id                           title  pagerank\n",
       "0       tt0137523                      Fight Club  0.000933\n",
       "1       tt0109830                    Forrest Gump  0.000890\n",
       "2       tt1375666                       Inception  0.000793\n",
       "3       tt0110912                    Pulp Fiction  0.000746\n",
       "4       tt0468569                 The Dark Knight  0.000652\n",
       "...           ...                             ...       ...\n",
       "33311  tt21423436  Poong, the Joseon Psychiatrist  0.000005\n",
       "33313   tt0086373                    Strange Brew  0.000005\n",
       "33314   tt0221718                    Wrong Number  0.000005\n",
       "33315   tt0043920                         Pier 23  0.000005\n",
       "33316   tt0051871            Live Fast, Die Young  0.000005\n",
       "\n",
       "[33317 rows x 3 columns]"
      ]
     },
     "execution_count": 93,
     "metadata": {},
     "output_type": "execute_result"
    }
   ],
   "source": [
    "movie"
   ]
  }
 ],
 "metadata": {
  "kernelspec": {
   "display_name": "backend",
   "language": "python",
   "name": "python3"
  },
  "language_info": {
   "codemirror_mode": {
    "name": "ipython",
    "version": 3
   },
   "file_extension": ".py",
   "mimetype": "text/x-python",
   "name": "python",
   "nbconvert_exporter": "python",
   "pygments_lexer": "ipython3",
   "version": "3.11.4"
  }
 },
 "nbformat": 4,
 "nbformat_minor": 2
}
