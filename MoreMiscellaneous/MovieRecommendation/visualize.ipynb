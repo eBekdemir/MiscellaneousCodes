{
 "cells": [
  {
   "cell_type": "code",
   "execution_count": 1,
   "metadata": {},
   "outputs": [],
   "source": [
    "import pandas as pd"
   ]
  },
  {
   "cell_type": "code",
   "execution_count": 19,
   "metadata": {},
   "outputs": [],
   "source": [
    "movies = pd.read_parquet('data/movies.parquet')"
   ]
  },
  {
   "cell_type": "code",
   "execution_count": 24,
   "metadata": {},
   "outputs": [
    {
     "name": "stdout",
     "output_type": "stream",
     "text": [
      "<class 'pandas.core.frame.DataFrame'>\n",
      "Index: 4316 entries, 0 to 6267\n",
      "Data columns (total 20 columns):\n",
      " #   Column             Non-Null Count  Dtype  \n",
      "---  ------             --------------  -----  \n",
      " 0   id                 4316 non-null   object \n",
      " 1   title              4316 non-null   object \n",
      " 2   releaseStatus      4315 non-null   object \n",
      " 3   type               4316 non-null   object \n",
      " 4   runtimeSeconds     4014 non-null   float64\n",
      " 5   rating             4111 non-null   float64\n",
      " 6   ratingCount        4316 non-null   int64  \n",
      " 7   genres             4316 non-null   object \n",
      " 8   description        4171 non-null   object \n",
      " 9   duration           4014 non-null   object \n",
      " 10  releaseYear        4177 non-null   float64\n",
      " 11  countriesOfOrigin  4295 non-null   object \n",
      " 12  directors          4316 non-null   object \n",
      " 13  writers            3633 non-null   object \n",
      " 14  cast               4316 non-null   object \n",
      " 15  suggestionsID      4316 non-null   object \n",
      " 16  suggestionsTitle   4316 non-null   object \n",
      " 17  keywords           4316 non-null   object \n",
      " 18  quotes             4316 non-null   object \n",
      " 19  imageUrl           250 non-null    object \n",
      "dtypes: float64(3), int64(1), object(16)\n",
      "memory usage: 708.1+ KB\n"
     ]
    }
   ],
   "source": [
    "movies.info()"
   ]
  },
  {
   "cell_type": "code",
   "execution_count": 21,
   "metadata": {},
   "outputs": [],
   "source": [
    "movies = movies.drop_duplicates(subset='id', keep='first')"
   ]
  },
  {
   "cell_type": "code",
   "execution_count": 22,
   "metadata": {},
   "outputs": [
    {
     "data": {
      "text/plain": [
       "type\n",
       "movie           3261\n",
       "tvSeries         407\n",
       "short            236\n",
       "tvMovie          164\n",
       "video            116\n",
       "tvMiniSeries     113\n",
       "tvSpecial         10\n",
       "tvShort            9\n",
       "Name: count, dtype: int64"
      ]
     },
     "execution_count": 22,
     "metadata": {},
     "output_type": "execute_result"
    }
   ],
   "source": [
    "movies['type'].value_counts()"
   ]
  },
  {
   "cell_type": "code",
   "execution_count": 23,
   "metadata": {},
   "outputs": [
    {
     "data": {
      "text/plain": [
       "array(['tt0111161', 'tt0068646', 'tt0468569', ..., 'tt1483797',\n",
       "       'tt14640242', 'tt1533395'], shape=(4316,), dtype=object)"
      ]
     },
     "execution_count": 23,
     "metadata": {},
     "output_type": "execute_result"
    }
   ],
   "source": [
    "movies['id'].unique()"
   ]
  },
  {
   "cell_type": "code",
   "execution_count": null,
   "metadata": {},
   "outputs": [],
   "source": []
  }
 ],
 "metadata": {
  "kernelspec": {
   "display_name": "backend",
   "language": "python",
   "name": "python3"
  },
  "language_info": {
   "codemirror_mode": {
    "name": "ipython",
    "version": 3
   },
   "file_extension": ".py",
   "mimetype": "text/x-python",
   "name": "python",
   "nbconvert_exporter": "python",
   "pygments_lexer": "ipython3",
   "version": "3.11.4"
  }
 },
 "nbformat": 4,
 "nbformat_minor": 2
}
