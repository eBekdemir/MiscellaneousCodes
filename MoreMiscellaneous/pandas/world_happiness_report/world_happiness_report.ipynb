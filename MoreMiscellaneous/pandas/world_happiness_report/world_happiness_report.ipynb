{
 "cells": [
  {
   "cell_type": "code",
   "execution_count": 1,
   "metadata": {},
   "outputs": [],
   "source": [
    "import pandas as pd\n",
    "import matplotlib.pyplot as plt"
   ]
  },
  {
   "cell_type": "code",
   "execution_count": 2,
   "metadata": {},
   "outputs": [],
   "source": [
    "df = pd.read_csv('world_happiness_report.csv')"
   ]
  },
  {
   "cell_type": "code",
   "execution_count": 3,
   "metadata": {},
   "outputs": [
    {
     "data": {
      "application/vnd.microsoft.datawrangler.viewer.v0+json": {
       "columns": [
        {
         "name": "index",
         "rawType": "int64",
         "type": "integer"
        },
        {
         "name": "Country",
         "rawType": "object",
         "type": "string"
        },
        {
         "name": "Year",
         "rawType": "int64",
         "type": "integer"
        },
        {
         "name": "Happiness_Score",
         "rawType": "float64",
         "type": "float"
        },
        {
         "name": "GDP_per_Capita",
         "rawType": "float64",
         "type": "float"
        },
        {
         "name": "Social_Support",
         "rawType": "float64",
         "type": "float"
        },
        {
         "name": "Healthy_Life_Expectancy",
         "rawType": "float64",
         "type": "float"
        },
        {
         "name": "Freedom",
         "rawType": "float64",
         "type": "float"
        },
        {
         "name": "Generosity",
         "rawType": "float64",
         "type": "float"
        },
        {
         "name": "Corruption_Perception",
         "rawType": "float64",
         "type": "float"
        },
        {
         "name": "Unemployment_Rate",
         "rawType": "float64",
         "type": "float"
        },
        {
         "name": "Education_Index",
         "rawType": "float64",
         "type": "float"
        },
        {
         "name": "Population",
         "rawType": "int64",
         "type": "integer"
        },
        {
         "name": "Urbanization_Rate",
         "rawType": "float64",
         "type": "float"
        },
        {
         "name": "Life_Satisfaction",
         "rawType": "float64",
         "type": "float"
        },
        {
         "name": "Public_Trust",
         "rawType": "float64",
         "type": "float"
        },
        {
         "name": "Mental_Health_Index",
         "rawType": "float64",
         "type": "float"
        },
        {
         "name": "Income_Inequality",
         "rawType": "float64",
         "type": "float"
        },
        {
         "name": "Public_Health_Expenditure",
         "rawType": "float64",
         "type": "float"
        },
        {
         "name": "Climate_Index",
         "rawType": "float64",
         "type": "float"
        },
        {
         "name": "Work_Life_Balance",
         "rawType": "float64",
         "type": "float"
        },
        {
         "name": "Internet_Access",
         "rawType": "float64",
         "type": "float"
        },
        {
         "name": "Crime_Rate",
         "rawType": "float64",
         "type": "float"
        },
        {
         "name": "Political_Stability",
         "rawType": "float64",
         "type": "float"
        },
        {
         "name": "Employment_Rate",
         "rawType": "float64",
         "type": "float"
        }
       ],
       "conversionMethod": "pd.DataFrame",
       "ref": "4f527abb-aa1f-45d9-bc35-5bc68a0997a1",
       "rows": [
        [
         "0",
         "China",
         "2022",
         "4.39",
         "44984.68",
         "0.53",
         "71.11",
         "0.41",
         "-0.05",
         "0.83",
         "14.98",
         "0.52",
         "1311940760",
         "78.71",
         "8.88",
         "0.34",
         "76.44",
         "46.06",
         "8.92",
         "62.75",
         "8.59",
         "74.4",
         "70.3",
         "0.29",
         "61.38"
        ],
        [
         "1",
         "UK",
         "2015",
         "5.49",
         "30814.59",
         "0.93",
         "63.14",
         "0.89",
         "0.04",
         "0.84",
         "19.46",
         "0.83",
         "1194240877",
         "50.87",
         "5.03",
         "0.72",
         "53.38",
         "46.43",
         "4.43",
         "53.11",
         "8.76",
         "91.74",
         "73.32",
         "0.76",
         "80.18"
        ],
        [
         "2",
         "Brazil",
         "2009",
         "4.65",
         "39214.84",
         "0.03",
         "62.36",
         "0.01",
         "0.16",
         "0.59",
         "16.68",
         "0.95",
         "731100898",
         "48.75",
         "5.22",
         "0.23",
         "82.4",
         "31.03",
         "3.78",
         "33.3",
         "6.06",
         "71.8",
         "28.99",
         "0.94",
         "72.65"
        ],
        [
         "3",
         "France",
         "2019",
         "5.2",
         "30655.75",
         "0.77",
         "78.94",
         "0.98",
         "0.25",
         "0.63",
         "2.64",
         "0.7",
         "1293957314",
         "81.78",
         "5.69",
         "0.68",
         "46.87",
         "57.65",
         "4.43",
         "90.59",
         "6.36",
         "86.16",
         "45.76",
         "0.48",
         "55.14"
        ],
        [
         "4",
         "China",
         "2022",
         "7.28",
         "30016.87",
         "0.05",
         "50.33",
         "0.62",
         "0.18",
         "0.92",
         "7.7",
         "0.92",
         "1432971455",
         "82.39",
         "6.33",
         "0.5",
         "60.38",
         "28.54",
         "7.66",
         "59.33",
         "3.0",
         "71.1",
         "65.67",
         "0.12",
         "51.55"
        ]
       ],
       "shape": {
        "columns": 24,
        "rows": 5
       }
      },
      "text/html": [
       "<div>\n",
       "<style scoped>\n",
       "    .dataframe tbody tr th:only-of-type {\n",
       "        vertical-align: middle;\n",
       "    }\n",
       "\n",
       "    .dataframe tbody tr th {\n",
       "        vertical-align: top;\n",
       "    }\n",
       "\n",
       "    .dataframe thead th {\n",
       "        text-align: right;\n",
       "    }\n",
       "</style>\n",
       "<table border=\"1\" class=\"dataframe\">\n",
       "  <thead>\n",
       "    <tr style=\"text-align: right;\">\n",
       "      <th></th>\n",
       "      <th>Country</th>\n",
       "      <th>Year</th>\n",
       "      <th>Happiness_Score</th>\n",
       "      <th>GDP_per_Capita</th>\n",
       "      <th>Social_Support</th>\n",
       "      <th>Healthy_Life_Expectancy</th>\n",
       "      <th>Freedom</th>\n",
       "      <th>Generosity</th>\n",
       "      <th>Corruption_Perception</th>\n",
       "      <th>Unemployment_Rate</th>\n",
       "      <th>...</th>\n",
       "      <th>Public_Trust</th>\n",
       "      <th>Mental_Health_Index</th>\n",
       "      <th>Income_Inequality</th>\n",
       "      <th>Public_Health_Expenditure</th>\n",
       "      <th>Climate_Index</th>\n",
       "      <th>Work_Life_Balance</th>\n",
       "      <th>Internet_Access</th>\n",
       "      <th>Crime_Rate</th>\n",
       "      <th>Political_Stability</th>\n",
       "      <th>Employment_Rate</th>\n",
       "    </tr>\n",
       "  </thead>\n",
       "  <tbody>\n",
       "    <tr>\n",
       "      <th>0</th>\n",
       "      <td>China</td>\n",
       "      <td>2022</td>\n",
       "      <td>4.39</td>\n",
       "      <td>44984.68</td>\n",
       "      <td>0.53</td>\n",
       "      <td>71.11</td>\n",
       "      <td>0.41</td>\n",
       "      <td>-0.05</td>\n",
       "      <td>0.83</td>\n",
       "      <td>14.98</td>\n",
       "      <td>...</td>\n",
       "      <td>0.34</td>\n",
       "      <td>76.44</td>\n",
       "      <td>46.06</td>\n",
       "      <td>8.92</td>\n",
       "      <td>62.75</td>\n",
       "      <td>8.59</td>\n",
       "      <td>74.40</td>\n",
       "      <td>70.30</td>\n",
       "      <td>0.29</td>\n",
       "      <td>61.38</td>\n",
       "    </tr>\n",
       "    <tr>\n",
       "      <th>1</th>\n",
       "      <td>UK</td>\n",
       "      <td>2015</td>\n",
       "      <td>5.49</td>\n",
       "      <td>30814.59</td>\n",
       "      <td>0.93</td>\n",
       "      <td>63.14</td>\n",
       "      <td>0.89</td>\n",
       "      <td>0.04</td>\n",
       "      <td>0.84</td>\n",
       "      <td>19.46</td>\n",
       "      <td>...</td>\n",
       "      <td>0.72</td>\n",
       "      <td>53.38</td>\n",
       "      <td>46.43</td>\n",
       "      <td>4.43</td>\n",
       "      <td>53.11</td>\n",
       "      <td>8.76</td>\n",
       "      <td>91.74</td>\n",
       "      <td>73.32</td>\n",
       "      <td>0.76</td>\n",
       "      <td>80.18</td>\n",
       "    </tr>\n",
       "    <tr>\n",
       "      <th>2</th>\n",
       "      <td>Brazil</td>\n",
       "      <td>2009</td>\n",
       "      <td>4.65</td>\n",
       "      <td>39214.84</td>\n",
       "      <td>0.03</td>\n",
       "      <td>62.36</td>\n",
       "      <td>0.01</td>\n",
       "      <td>0.16</td>\n",
       "      <td>0.59</td>\n",
       "      <td>16.68</td>\n",
       "      <td>...</td>\n",
       "      <td>0.23</td>\n",
       "      <td>82.40</td>\n",
       "      <td>31.03</td>\n",
       "      <td>3.78</td>\n",
       "      <td>33.30</td>\n",
       "      <td>6.06</td>\n",
       "      <td>71.80</td>\n",
       "      <td>28.99</td>\n",
       "      <td>0.94</td>\n",
       "      <td>72.65</td>\n",
       "    </tr>\n",
       "    <tr>\n",
       "      <th>3</th>\n",
       "      <td>France</td>\n",
       "      <td>2019</td>\n",
       "      <td>5.20</td>\n",
       "      <td>30655.75</td>\n",
       "      <td>0.77</td>\n",
       "      <td>78.94</td>\n",
       "      <td>0.98</td>\n",
       "      <td>0.25</td>\n",
       "      <td>0.63</td>\n",
       "      <td>2.64</td>\n",
       "      <td>...</td>\n",
       "      <td>0.68</td>\n",
       "      <td>46.87</td>\n",
       "      <td>57.65</td>\n",
       "      <td>4.43</td>\n",
       "      <td>90.59</td>\n",
       "      <td>6.36</td>\n",
       "      <td>86.16</td>\n",
       "      <td>45.76</td>\n",
       "      <td>0.48</td>\n",
       "      <td>55.14</td>\n",
       "    </tr>\n",
       "    <tr>\n",
       "      <th>4</th>\n",
       "      <td>China</td>\n",
       "      <td>2022</td>\n",
       "      <td>7.28</td>\n",
       "      <td>30016.87</td>\n",
       "      <td>0.05</td>\n",
       "      <td>50.33</td>\n",
       "      <td>0.62</td>\n",
       "      <td>0.18</td>\n",
       "      <td>0.92</td>\n",
       "      <td>7.70</td>\n",
       "      <td>...</td>\n",
       "      <td>0.50</td>\n",
       "      <td>60.38</td>\n",
       "      <td>28.54</td>\n",
       "      <td>7.66</td>\n",
       "      <td>59.33</td>\n",
       "      <td>3.00</td>\n",
       "      <td>71.10</td>\n",
       "      <td>65.67</td>\n",
       "      <td>0.12</td>\n",
       "      <td>51.55</td>\n",
       "    </tr>\n",
       "  </tbody>\n",
       "</table>\n",
       "<p>5 rows × 24 columns</p>\n",
       "</div>"
      ],
      "text/plain": [
       "  Country  Year  Happiness_Score  GDP_per_Capita  Social_Support  \\\n",
       "0   China  2022             4.39        44984.68            0.53   \n",
       "1      UK  2015             5.49        30814.59            0.93   \n",
       "2  Brazil  2009             4.65        39214.84            0.03   \n",
       "3  France  2019             5.20        30655.75            0.77   \n",
       "4   China  2022             7.28        30016.87            0.05   \n",
       "\n",
       "   Healthy_Life_Expectancy  Freedom  Generosity  Corruption_Perception  \\\n",
       "0                    71.11     0.41       -0.05                   0.83   \n",
       "1                    63.14     0.89        0.04                   0.84   \n",
       "2                    62.36     0.01        0.16                   0.59   \n",
       "3                    78.94     0.98        0.25                   0.63   \n",
       "4                    50.33     0.62        0.18                   0.92   \n",
       "\n",
       "   Unemployment_Rate  ...  Public_Trust  Mental_Health_Index  \\\n",
       "0              14.98  ...          0.34                76.44   \n",
       "1              19.46  ...          0.72                53.38   \n",
       "2              16.68  ...          0.23                82.40   \n",
       "3               2.64  ...          0.68                46.87   \n",
       "4               7.70  ...          0.50                60.38   \n",
       "\n",
       "   Income_Inequality  Public_Health_Expenditure  Climate_Index  \\\n",
       "0              46.06                       8.92          62.75   \n",
       "1              46.43                       4.43          53.11   \n",
       "2              31.03                       3.78          33.30   \n",
       "3              57.65                       4.43          90.59   \n",
       "4              28.54                       7.66          59.33   \n",
       "\n",
       "   Work_Life_Balance  Internet_Access  Crime_Rate  Political_Stability  \\\n",
       "0               8.59            74.40       70.30                 0.29   \n",
       "1               8.76            91.74       73.32                 0.76   \n",
       "2               6.06            71.80       28.99                 0.94   \n",
       "3               6.36            86.16       45.76                 0.48   \n",
       "4               3.00            71.10       65.67                 0.12   \n",
       "\n",
       "   Employment_Rate  \n",
       "0            61.38  \n",
       "1            80.18  \n",
       "2            72.65  \n",
       "3            55.14  \n",
       "4            51.55  \n",
       "\n",
       "[5 rows x 24 columns]"
      ]
     },
     "execution_count": 3,
     "metadata": {},
     "output_type": "execute_result"
    }
   ],
   "source": [
    "df.head()"
   ]
  },
  {
   "cell_type": "code",
   "execution_count": 4,
   "metadata": {},
   "outputs": [
    {
     "name": "stdout",
     "output_type": "stream",
     "text": [
      "<class 'pandas.core.frame.DataFrame'>\n",
      "RangeIndex: 4000 entries, 0 to 3999\n",
      "Data columns (total 24 columns):\n",
      " #   Column                     Non-Null Count  Dtype  \n",
      "---  ------                     --------------  -----  \n",
      " 0   Country                    4000 non-null   object \n",
      " 1   Year                       4000 non-null   int64  \n",
      " 2   Happiness_Score            4000 non-null   float64\n",
      " 3   GDP_per_Capita             4000 non-null   float64\n",
      " 4   Social_Support             4000 non-null   float64\n",
      " 5   Healthy_Life_Expectancy    4000 non-null   float64\n",
      " 6   Freedom                    4000 non-null   float64\n",
      " 7   Generosity                 4000 non-null   float64\n",
      " 8   Corruption_Perception      4000 non-null   float64\n",
      " 9   Unemployment_Rate          4000 non-null   float64\n",
      " 10  Education_Index            4000 non-null   float64\n",
      " 11  Population                 4000 non-null   int64  \n",
      " 12  Urbanization_Rate          4000 non-null   float64\n",
      " 13  Life_Satisfaction          4000 non-null   float64\n",
      " 14  Public_Trust               4000 non-null   float64\n",
      " 15  Mental_Health_Index        4000 non-null   float64\n",
      " 16  Income_Inequality          4000 non-null   float64\n",
      " 17  Public_Health_Expenditure  4000 non-null   float64\n",
      " 18  Climate_Index              4000 non-null   float64\n",
      " 19  Work_Life_Balance          4000 non-null   float64\n",
      " 20  Internet_Access            4000 non-null   float64\n",
      " 21  Crime_Rate                 4000 non-null   float64\n",
      " 22  Political_Stability        4000 non-null   float64\n",
      " 23  Employment_Rate            4000 non-null   float64\n",
      "dtypes: float64(21), int64(2), object(1)\n",
      "memory usage: 750.1+ KB\n"
     ]
    }
   ],
   "source": [
    "df.info()"
   ]
  },
  {
   "cell_type": "code",
   "execution_count": 7,
   "metadata": {},
   "outputs": [
    {
     "data": {
      "text/plain": [
       "(20,)"
      ]
     },
     "execution_count": 7,
     "metadata": {},
     "output_type": "execute_result"
    }
   ],
   "source": [
    "df['Year'].unique().shape"
   ]
  },
  {
   "cell_type": "code",
   "execution_count": 8,
   "metadata": {},
   "outputs": [
    {
     "data": {
      "text/plain": [
       "(10,)"
      ]
     },
     "execution_count": 8,
     "metadata": {},
     "output_type": "execute_result"
    }
   ],
   "source": [
    "df['Country'].unique().shape"
   ]
  },
  {
   "cell_type": "code",
   "execution_count": 23,
   "metadata": {},
   "outputs": [
    {
     "data": {
      "text/plain": [
       "21      4.93\n",
       "144     6.03\n",
       "164     7.78\n",
       "276     7.04\n",
       "871     3.96\n",
       "1068    4.84\n",
       "1124    3.28\n",
       "1172    3.28\n",
       "1275    6.85\n",
       "1767    5.10\n",
       "2004    7.78\n",
       "2212    4.25\n",
       "2221    7.79\n",
       "2454    3.22\n",
       "2474    4.75\n",
       "2989    5.67\n",
       "3041    6.63\n",
       "3096    3.22\n",
       "3168    5.67\n",
       "3381    5.69\n",
       "3430    6.96\n",
       "3593    3.17\n",
       "3816    4.66\n",
       "3833    3.97\n",
       "Name: Happiness_Score, dtype: float64"
      ]
     },
     "execution_count": 23,
     "metadata": {},
     "output_type": "execute_result"
    }
   ],
   "source": [
    "df.loc[(df['Country'] == 'USA') & (df['Year'] == 2020), 'Happiness_Score']"
   ]
  },
  {
   "cell_type": "code",
   "execution_count": null,
   "metadata": {},
   "outputs": [],
   "source": []
  }
 ],
 "metadata": {
  "kernelspec": {
   "display_name": "Python 3",
   "language": "python",
   "name": "python3"
  },
  "language_info": {
   "codemirror_mode": {
    "name": "ipython",
    "version": 3
   },
   "file_extension": ".py",
   "mimetype": "text/x-python",
   "name": "python",
   "nbconvert_exporter": "python",
   "pygments_lexer": "ipython3",
   "version": "3.11.4"
  }
 },
 "nbformat": 4,
 "nbformat_minor": 2
}
